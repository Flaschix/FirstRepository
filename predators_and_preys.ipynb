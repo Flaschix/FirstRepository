{
  "nbformat": 4,
  "nbformat_minor": 0,
  "metadata": {
    "colab": {
      "provenance": [],
      "authorship_tag": "ABX9TyNqvdceQDogEzMc2EMrC2+I",
      "include_colab_link": true
    },
    "kernelspec": {
      "name": "python3",
      "display_name": "Python 3"
    },
    "language_info": {
      "name": "python"
    }
  },
  "cells": [
    {
      "cell_type": "markdown",
      "metadata": {
        "id": "view-in-github",
        "colab_type": "text"
      },
      "source": [
        "<a href=\"https://colab.research.google.com/github/Flaschix/FirstRepository/blob/master/predators_and_preys.ipynb\" target=\"_parent\"><img src=\"https://colab.research.google.com/assets/colab-badge.svg\" alt=\"Open In Colab\"/></a>"
      ]
    },
    {
      "cell_type": "code",
      "execution_count": 58,
      "metadata": {
        "colab": {
          "base_uri": "https://localhost:8080/",
          "height": 279
        },
        "id": "DenwJprloH6o",
        "outputId": "690ed41e-7519-4524-ec78-981eb1e06b10"
      },
      "outputs": [
        {
          "output_type": "display_data",
          "data": {
            "text/plain": [
              "<Figure size 432x288 with 1 Axes>"
            ],
            "image/png": "[encoded data removed]"
          },
          "metadata": {
            "needs_background": "light"
          }
        }
      ],
      "source": [
        "import numpy as np\n",
        "\n",
        "import matplotlib.pyplot as plt\n",
        "\n",
        "def lotka(x, args):\n",
        "  a = args[\"a\"]\n",
        "  b = args[\"b\"]\n",
        "  c = args[\"c\"]\n",
        "  d = args[\"d\"]\n",
        "\n",
        "  xDot = np.array([a * x[0] - b * x[0] * x[1], d * x[0] * x[1] - c * x[1]])\n",
        "  return xDot\n",
        "\n",
        "def rungeKutt(f, x0, t0, tf, dt):\n",
        "  t = np.arange(t0,tf,dt)\n",
        "  nt = t.size\n",
        "  nx = x0.size\n",
        "  x = np.zeros((nx,nt))\n",
        "\n",
        "  x[:,0] = x0\n",
        "  for k in range(nt - 1):\n",
        "    k1 = dt * f(t[k], x[:,k])\n",
        "    k2 = dt * f(t[k] + dt/2, x[:,k] + k1/2)\n",
        "    k3 = dt * f(t[k] + dt/2, x[:,k] + k2/2)\n",
        "    k4 = dt * f(t[k] + dt, x[:,k] + k3)\n",
        "\n",
        "    dx = (k1 + 2 * k2 + 2 * k3 + k4)/6\n",
        "\n",
        "    x[:, k+1] = x[:, k] + dx\n",
        "  \n",
        "  return x, t\n",
        "\n",
        "args = {\"a\": 1.1, \"b\": 0.4, \"c\": 0.4, \"d\": 0.1}\n",
        "\n",
        "f = lambda t, x : lotka(x, args)\n",
        "\n",
        "x0 = np.array([20, 5])\n",
        "\n",
        "t0 = 0\n",
        "tf = 50\n",
        "dt = 0.1\n",
        "\n",
        "x, t = rungeKutt(f, x0, t0, tf, dt)\n",
        "\n",
        "# plt.subplot(1, 1, 1)\n",
        "# plt.plot(t, x[0, :], \"r\", label=\"Жертвы\")\n",
        "# plt.plot(t, x[1, :], \"b\", label=\"Хищники\")\n",
        "# plt.xlabel(\"Время\")\n",
        "# plt.grid()\n",
        "# plt.legend()\n",
        "\n",
        "# plt.show()\n",
        "\n",
        "plt.subplot(1, 1, 1)\n",
        "plt.plot(x[0, :], x[1, :])\n",
        "plt.xlabel(\"Жертвы\")\n",
        "plt.ylabel(\"Хищники\")\n",
        "plt.grid()\n",
        "\n",
        "plt.show()"
      ]
    }
  ]
}